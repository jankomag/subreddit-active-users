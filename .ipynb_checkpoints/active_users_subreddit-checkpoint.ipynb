{
 "cells": [
  {
   "cell_type": "markdown",
   "metadata": {},
   "source": [
    "### Importing libraries"
   ]
  },
  {
   "cell_type": "code",
   "execution_count": 1,
   "metadata": {},
   "outputs": [],
   "source": [
    "import requests\n",
    "import time\n",
    "from datetime import datetime\n",
    "import matplotlib.pyplot as plt "
   ]
  },
  {
   "cell_type": "markdown",
   "metadata": {},
   "source": [
    "### Get user input on which subreddit to parse"
   ]
  },
  {
   "cell_type": "code",
   "execution_count": 2,
   "metadata": {},
   "outputs": [
    {
     "name": "stdout",
     "output_type": "stream",
     "text": [
      "What subreddit do you want to check?gis\n"
     ]
    }
   ],
   "source": [
    "subreddit = input(\"What subreddit do you want to check?\")"
   ]
  },
  {
   "cell_type": "markdown",
   "metadata": {},
   "source": [
    "### Function for getting the count"
   ]
  },
  {
   "cell_type": "code",
   "execution_count": 3,
   "metadata": {},
   "outputs": [],
   "source": [
    "def get_active_users(subreddit):\n",
    "    headers = {'User-Agent': 'Mozilla/5.0 (X11; Ubuntu; Linux x86_64; rv:77.0) Gecko/20100101 Firefox/77.0'}\n",
    "    data = requests.get('https://www.reddit.com/r/{}/about.json'.format(subreddit), headers=headers).json()\n",
    "    active_user_count = data['data']['active_user_count']\n",
    "    return active_user_count"
   ]
  },
  {
   "cell_type": "markdown",
   "metadata": {},
   "source": [
    "### Let user specify the timeframe"
   ]
  },
  {
   "cell_type": "code",
   "execution_count": 4,
   "metadata": {},
   "outputs": [
    {
     "name": "stdout",
     "output_type": "stream",
     "text": [
      "How many measurments do you want?4\n",
      "What do you want the time interval to be? (60 = one minute)2\n"
     ]
    }
   ],
   "source": [
    "number_of_inputs = int(input(\"How many measurments do you want?\"))\n",
    "time_interval = int(input(\"What do you want the time interval to be? (60 = one minute)\"))"
   ]
  },
  {
   "cell_type": "markdown",
   "metadata": {},
   "source": [
    "### Run the function repeatedly over the specified timeframe\n"
   ]
  },
  {
   "cell_type": "code",
   "execution_count": 5,
   "metadata": {},
   "outputs": [
    {
     "name": "stdout",
     "output_type": "stream",
     "text": [
      "{'19:19:47': 169}\n",
      "{'19:19:47': 169, '19:19:50': 169}\n",
      "{'19:19:47': 169, '19:19:50': 169, '19:19:53': 169}\n",
      "{'19:19:47': 169, '19:19:50': 169, '19:19:53': 169, '19:19:56': 169}\n",
      "{'19:19:47': 169, '19:19:50': 169, '19:19:53': 169, '19:19:56': 169}\n"
     ]
    }
   ],
   "source": [
    "now = datetime.now()\n",
    "current_hour = now.strftime(\"%H:%M:%S\")\n",
    "\n",
    "user_per_hour = {  # defining a dictionary to store the results in\n",
    "}\n",
    "\n",
    "while len(user_per_hour) < number_of_inputs:\n",
    "    now = datetime.now()\n",
    "    current_hour = now.strftime(\"%H:%M:%S\")\n",
    "    time.sleep(time_interval)\n",
    "    currently_users = get_active_users(subreddit)\n",
    "    user_per_hour.update( {current_hour : currently_users} )\n",
    "    print(user_per_hour)\n",
    "\n",
    "print(user_per_hour)"
   ]
  },
  {
   "cell_type": "markdown",
   "metadata": {},
   "source": [
    "## Plot the results"
   ]
  },
  {
   "cell_type": "code",
   "execution_count": 6,
   "metadata": {
    "scrolled": true
   },
   "outputs": [
    {
     "data": {
      "image/png": "[encoded data removed]",
      "text/plain": [
       "<Figure size 432x288 with 1 Axes>"
      ]
     },
     "metadata": {
      "needs_background": "light"
     },
     "output_type": "display_data"
    }
   ],
   "source": [
    "plt.plot(*zip(*sorted(user_per_hour.items())))\n",
    "plt.tight_layout()\n",
    "plt.xticks(rotation=90)\n",
    "plt.title(f\"Active users on r/{subreddit}\", loc='center')\n",
    "plt.xlabel('Time')\n",
    "plt.ylabel('Active Users')\n",
    "plt.gcf().subplots_adjust(bottom=0.2, top=0.9, left=0.1) # adjusting the plotting area\n",
    "plt.savefig(f\"{subreddit}_users_graph.png\")\n",
    "plt.show()"
   ]
  }
 ],
 "metadata": {
  "kernelspec": {
   "display_name": "Python 3",
   "language": "python",
   "name": "python3"
  },
  "language_info": {
   "codemirror_mode": {
    "name": "ipython",
    "version": 3
   },
   "file_extension": ".py",
   "mimetype": "text/x-python",
   "name": "python",
   "nbconvert_exporter": "python",
   "pygments_lexer": "ipython3",
   "version": "3.7.6"
  }
 },
 "nbformat": 4,
 "nbformat_minor": 4
}
